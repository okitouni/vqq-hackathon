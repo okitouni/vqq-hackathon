{
 "cells": [
  {
   "cell_type": "markdown",
   "metadata": {},
   "source": []
  },
  {
   "cell_type": "markdown",
   "metadata": {},
   "source": [
    "# Hackathon Prompt: Vector Boson Measurement\n",
    "## IAIFI Summer School 2022\n",
    "\n",
    "## 1. Introduction\n",
    "In this lab we will investigate W bosons produced in the LHC's 8 TeV proton proton collisions. These samples were produced 4 years ago in a fun experiment that opened up the option of performing low mass resonance searches at the LHC. The studies done then have led to a wealth of results from both LHC experiments, ATLAS and CMS. To understand how this study works, we first need to introduce a few concepts.\n",
    "\n",
    "![](images/Wqq.png)\n",
    "\n",
    "Let's first consider the process that we would like to look for. The production of W bosons in proton collisions. Here is a Feynman diagram of the process.   The left part of the diagram represents the production of the W boson via some initial quark interaction (quarks and anti-quarks are present when two protons collide). At the right you have a gluon (bottom) that is produced in association with the W boson (top). At the top right, the W boson is decaying. It can decay to many things. The full list of W boson decays is here, in the W branching ratios section. The quark label generically means that the W boson decays to two quarks. In the reference document this is equivalent to a decay to hadrons.\n",
    "\n",
    "Both quarks and gluons will decay into objects that we refer to as jets. A jet is collection of particles coming from an original quark or gluon. \n",
    "\n",
    "## 2. Measurement of Interest\n",
    "You will do a **Bump Hunt** in mass *(Explanation and example code)*.\n",
    "Your goal will be to extract that mass of the W from the given data using a classifier to remove as much background as possible. \n",
    "\n",
    "## 3. Possible Issue\n",
    "Neural networks (and classifiers with enough capacity in general) have a tendency of learning features they should not. The field of machine learning concerned with studying this phenomenon is called [algorithmic fairness](https://en.wikipedia.org/wiki/Fairness_(machine_learning)) Explore how your classifier is using the mass to infer the labels (even if you do not directly use it as a training feature).\n",
    "*(Explain how features can be correlated).*\n",
    "\n",
    "## 4. Example solutions\n",
    "\n",
    "- Moment decomposition to control classifier bias: https://arxiv.org/pdf/2010.09745.pdf\n",
    "- Distance Correlation: https://arxiv.org/pdf/2001.05310.pdf\n",
    "\n"
   ]
  },
  {
   "cell_type": "markdown",
   "metadata": {},
   "source": [
    "## Loading the data"
   ]
  },
  {
   "cell_type": "code",
   "execution_count": null,
   "metadata": {},
   "outputs": [],
   "source": [
    "#3GB Data Set\n",
    "# !wget https://www.dropbox.com/s/bcyab2lljie72aj/data.tgz?dl=1\n",
    "# or if you don't have wget\n",
    "!curl -LO https://www.dropbox.com/s/bcyab2lljie72aj/data.tgz?dl=1\n",
    "#130MB Data Set\n",
    "# !wget https://www.dropbox.com/s/p756oa4mfw17lfw/data.zip?dl=1\n",
    "# !curl -LO https://www.dropbox.com/s/p756oa4mfw17lfw/data.zip?dl=1\n",
    "\n",
    "# Extract the data\n",
    "!unzip data.zip?dl=1\n",
    "!tar -xvf data.tgz?dl=1\n",
    "\n",
    "# Clean the downloaded file\n",
    "!rm data.zip?dl=1 data.tgz?dl=1 "
   ]
  }
 ],
 "metadata": {
  "kernelspec": {
   "display_name": "Python 3.8.10 64-bit",
   "language": "python",
   "name": "python3"
  },
  "language_info": {
   "name": "python",
   "version": "3.8.9"
  },
  "orig_nbformat": 4,
  "vscode": {
   "interpreter": {
    "hash": "31f2aee4e71d21fbe5cf8b01ff0e069b9275f58929596ceb00d14d90e3e16cd6"
   }
  }
 },
 "nbformat": 4,
 "nbformat_minor": 2
}
