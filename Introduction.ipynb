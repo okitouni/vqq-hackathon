{
 "cells": [
  {
   "cell_type": "markdown",
   "metadata": {},
   "source": [
    "# Hackathon Prompt: Vector Boson Measurement\n",
    "## IAIFI Summer School 2022\n",
    "\n",
    "## 1. Introduction\n",
    "In this lab we will investigate W bosons produced in the LHC's 8 TeV proton proton collisions. These samples were produced 4 years ago in a fun experiment that opened up the option of performing low mass resonance searches at the LHC. The studies done then have led to a wealth of results from both LHC experiments, ATLAS and CMS. To understand how this study works, we first need to introduce a few concepts.\n",
    "\n",
    "![](images/Wqq.png)\n",
    "\n",
    "Let's first consider the process that we would like to look for. The production of W bosons in proton collisions. Here is a Feynman diagram of the process.   The left part of the diagram represents the production of the W boson via some initial quark interaction (quarks and anti-quarks are present when two protons collide). At the right you have a gluon (bottom) that is produced in association with the W boson (top). At the top right, the W boson is decaying. It can decay to many things. The full list of W boson decays is here, in the W branching ratios section. The quark label generically means that the W boson decays to two quarks. In the reference document this is equivalent to a decay to hadrons.\n",
    "\n",
    "Both quarks and gluons will decay into objects that we refer to as jets. A jet is collection of particles coming from an original quark or gluon. \n",
    "\n",
    "## 2. Measurement of Interest\n",
    "You will do a **Bump Hunt** in mass *(Explanation and example code)*.\n",
    "Your goal will be to extract that mass of the W from the given data using a classifier to remove as much background as possible. \n",
    "\n",
    "## 3. Possible Issue\n",
    "Neural networks (and classifiers with enough capacity in general) have a tendency of learning features they should not. The field of machine learning concerned with studying this phenomenon is called [algorithmic fairness](https://en.wikipedia.org/wiki/Fairness_(machine_learning)) Explore how your classifier is using the mass to infer the labels (even if you do not directly use it as a training feature).\n",
    "*(Explain how features can be correlated).*\n",
    "\n",
    "## 4. Example solutions\n",
    "\n",
    "- Moment decomposition to control classifier bias: https://arxiv.org/pdf/2010.09745.pdf\n",
    "- Distance Correlation: https://arxiv.org/pdf/2001.05310.pdf\n",
    "\n"
   ]
  },
  {
   "cell_type": "markdown",
   "metadata": {},
   "source": [
    "## Creating an environment with conda"
   ]
  },
  {
   "cell_type": "code",
   "execution_count": 1,
   "metadata": {},
   "outputs": [],
   "source": [
    "# ! conda create vqq python=3.9\n",
    "# ! conda activate vqq\n",
    "# ! pip install -r requirements.txt"
   ]
  },
  {
   "cell_type": "markdown",
   "metadata": {},
   "source": [
    "## Loading the data"
   ]
  },
  {
   "cell_type": "code",
   "execution_count": 6,
   "metadata": {},
   "outputs": [
    {
     "name": "stdout",
     "output_type": "stream",
     "text": [
      "  % Total    % Received % Xferd  Average Speed   Time    Time     Time  Current\n",
      "                                 Dload  Upload   Total   Spent    Left  Speed\n",
      "100   133    0   133    0     0    502      0 --:--:-- --:--:-- --:--:--   503\n",
      "100   340  100   340    0     0    739      0 --:--:-- --:--:-- --:--:--   739\n",
      "  0     0    0   534    0     0    867      0 --:--:-- --:--:-- --:--:--   867\n",
      "100 2898M  100 2898M    0     0  40.6M      0  0:01:11  0:01:11 --:--:-- 44.2M\n",
      "._data\n",
      "data/\n",
      "data/._WQQ_s.root\n",
      "data/WQQ_s.root\n",
      "data/._ZZ.root\n",
      "data/ZZ.root\n",
      "data/._skimh\n",
      "data/skimh/\n",
      "data/._QCD_s.root\n",
      "data/QCD_s.root\n",
      "data/._ZQQ_s.root\n",
      "data/ZQQ_s.root\n",
      "data/._JetHT_s.root\n",
      "data/JetHT_s.root\n",
      "data/._TT.root\n",
      "data/TT.root\n",
      "data/._ggH.root\n",
      "data/ggH.root\n",
      "data/._WW.root\n",
      "data/WW.root\n",
      "data/._WZ.root\n",
      "data/WZ.root\n",
      "data/skimh/._WQQ_sh.root\n",
      "data/skimh/WQQ_sh.root\n",
      "data/skimh/._ZQQ_sh.root\n",
      "data/skimh/ZQQ_sh.root\n",
      "data/skimh/._VQQ_sh.root\n",
      "data/skimh/VQQ_sh.root\n"
     ]
    }
   ],
   "source": [
    "#3GB Data Set\n",
    "# !wget https://www.dropbox.com/s/bcyab2lljie72aj/data.tgz\n",
    "# or if you don't have wget\n",
    "!curl -LO https://www.dropbox.com/s/bcyab2lljie72aj/data.tgz\n",
    "#130MB Data Set\n",
    "# !wget https://www.dropbox.com/s/p756oa4mfw17lfw/data.zip\n",
    "# !curl -LO https://www.dropbox.com/s/p756oa4mfw17lfw/data.zip\n",
    "\n",
    "# Extract the data\n",
    "# !unzip data.zip\n",
    "!tar -xvf data.tgz\n",
    "\n",
    "# # Clean the downloaded file\n",
    "# !rm data.zip \n",
    "# !rm data.tgz"
   ]
  },
  {
   "cell_type": "code",
   "execution_count": 7,
   "metadata": {},
   "outputs": [],
   "source": [
    "import uproot\n",
    "# Now lets look at the data. Our data sample is the JetHT dataset. \n",
    "# What that means is the data passed triggers that have a jet in one of the triggers. (discuss below)\n",
    "data   = uproot.open(\"data/JetHT_s.root\")[\"Tree\"]\n",
    "\n",
    "# In addition to above we have Monte Carlo Simulation of many processes\n",
    "# Some of these process are well modelled in simulation and some of them are not\n",
    "#-------------------------------------------------------------------------------\n",
    "\n",
    "# Now we have our actual process qq=>W=>qq at 8TeV collision energy\n",
    "wqq    = uproot.open(\"data/WQQ_s.root\")[\"Tree\"]\n",
    "\n",
    "# Now we have our actual process qq=>Z=>qq at 8TeV collision energy\n",
    "zqq    = uproot.open(\"data/ZQQ_s.root\")[\"Tree\"] \n",
    "\n",
    "#Hint: You could check for files in the data directory by doing \"!ls data/\" in a cell.\n",
    "#The ZQQ file name is similar to WQQ\n",
    "\n",
    "# Unfortunately the samples I made above a long time ago are very small. \n",
    "# To train NNs and make nice plots we will use larger samples produced at a different collision energy\n",
    "# qq=>W=>qq at 13TeV collision energy\n",
    "wqq13  = uproot.open(\"data/skimh/WQQ_sh.root\")[\"Tree\"]\n",
    "\n",
    "# qq=>Z=>qq at 13TeV collision energy\n",
    "zqq13  = uproot.open(\"data/skimh/ZQQ_sh.root\")[\"Tree\"]\n",
    "\n",
    "# Now we have our worst modeled background this is also our main background. \n",
    "# This is is our di-jet quark and gluon background. \n",
    "# We just call these backgrounds QCD because they are produced with Quantum Chromo Dynamics. \n",
    "qcd    = uproot.open(\"data/QCD_s.root\")[\"Tree\"]\n",
    "\n",
    "# Now we have the Higgs boson sample (we might need this in the future)\n",
    "ggh    = uproot.open(\"data/ggH.root\")[\"Tree\"]\n",
    "\n",
    "# And top-quark pair production background. \n",
    "tt     = uproot.open(\"data/TT.root\")[\"Tree\"]\n",
    "\n",
    "# Finally we have the rarer double W, W+Z and Z+Z diboson samples where we have two bosons instead of one\n",
    "ww     = uproot.open(\"data/WW.root\")[\"Tree\"]\n",
    "wz     = uproot.open(\"data/WZ.root\")[\"Tree\"]\n",
    "zz     = uproot.open(\"data/ZZ.root\")[\"Tree\"]"
   ]
  },
  {
   "cell_type": "code",
   "execution_count": null,
   "metadata": {},
   "outputs": [],
   "source": []
  }
 ],
 "metadata": {
  "kernelspec": {
   "display_name": "Python 3.9.12 ('hackathon')",
   "language": "python",
   "name": "python3"
  },
  "language_info": {
   "codemirror_mode": {
    "name": "ipython",
    "version": 3
   },
   "file_extension": ".py",
   "mimetype": "text/x-python",
   "name": "python",
   "nbconvert_exporter": "python",
   "pygments_lexer": "ipython3",
   "version": "3.9.12"
  },
  "orig_nbformat": 4,
  "vscode": {
   "interpreter": {
    "hash": "54aa1f3357597c3d995c3a9daa3c58a2b327eb28750c890fa06e0701488a8e23"
   }
  }
 },
 "nbformat": 4,
 "nbformat_minor": 2
}
